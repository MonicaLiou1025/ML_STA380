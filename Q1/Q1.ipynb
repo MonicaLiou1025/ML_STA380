{
 "cells": [
  {
   "cell_type": "code",
   "execution_count": 2,
   "id": "initial_id",
   "metadata": {
    "collapsed": true,
    "ExecuteTime": {
     "end_time": "2023-08-11T18:23:50.558933Z",
     "start_time": "2023-08-11T18:23:50.545422Z"
    }
   },
   "outputs": [
    {
     "name": "stdout",
     "output_type": "stream",
     "text": [
      "The fraction of people who are truthful clickers answered yes is: 0.7142857142857143\n"
     ]
    }
   ],
   "source": [
    "P_yes_total = 0.65\n",
    "P_yes_rc = 0.5\n",
    "P_rc = 0.3\n",
    "P_tc = 0.7\n",
    "\n",
    "P_yes_tc = (P_yes_total - P_yes_rc * P_rc) / P_tc\n",
    "\n",
    "print(f\"The fraction of people who are truthful clickers answered yes is: {P_yes_tc}\")"
   ]
  },
  {
   "cell_type": "code",
   "execution_count": 3,
   "outputs": [
    {
     "name": "stdout",
     "output_type": "stream",
     "text": [
      "The probability that they have the disease given that they test positive is: 0.19888241302651516\n"
     ]
    }
   ],
   "source": [
    "P_A = 0.000025\n",
    "P_B_given_A = 0.993\n",
    "P_B_given_not_A = 1 - 0.9999\n",
    "P_not_A = 1 - P_A\n",
    "\n",
    "P_B = P_B_given_A * P_A + P_B_given_not_A * P_not_A\n",
    "\n",
    "P_A_given_B = P_B_given_A * P_A / P_B\n",
    "\n",
    "print(f\"The probability that they have the disease given that they test positive is: {P_A_given_B}\")"
   ],
   "metadata": {
    "collapsed": false,
    "ExecuteTime": {
     "end_time": "2023-08-11T18:23:51.759638Z",
     "start_time": "2023-08-11T18:23:51.756868Z"
    }
   },
   "id": "6e9477a0664a6c77"
  }
 ],
 "metadata": {
  "kernelspec": {
   "display_name": "Python 3",
   "language": "python",
   "name": "python3"
  },
  "language_info": {
   "codemirror_mode": {
    "name": "ipython",
    "version": 2
   },
   "file_extension": ".py",
   "mimetype": "text/x-python",
   "name": "python",
   "nbconvert_exporter": "python",
   "pygments_lexer": "ipython2",
   "version": "2.7.6"
  }
 },
 "nbformat": 4,
 "nbformat_minor": 5
}
