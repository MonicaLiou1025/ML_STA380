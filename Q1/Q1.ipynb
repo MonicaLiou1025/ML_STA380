{
 "cells": [
  {
   "cell_type": "markdown",
   "source": [
    "# Probability practice\n",
    "Part A. Visitors to your website are asked to answer a single survey question before they get access to the content on the page. Among all of the users, there are two categories: Random Clicker (RC), and Truthful Clicker (TC). There are two possible answers to the survey: yes and no. Random clickers would click either one with equal probability. You are also giving the information that the expected fraction of random clickers is 0.3. After a trial period, you get the following survey results: 65% said Yes and 35% said No. What fraction of people who are truthful clickers answered yes? Hint: use the rule of total probability.\n"
   ],
   "metadata": {
    "collapsed": false
   },
   "id": "8b968d8c47981079"
  },
  {
   "cell_type": "code",
   "execution_count": 2,
   "id": "initial_id",
   "metadata": {
    "ExecuteTime": {
     "end_time": "2023-08-11T18:23:50.558933Z",
     "start_time": "2023-08-11T18:23:50.545422Z"
    },
    "collapsed": true
   },
   "outputs": [
    {
     "name": "stdout",
     "output_type": "stream",
     "text": [
      "The fraction of people who are truthful clickers answered yes is: 0.7142857142857143\n"
     ]
    }
   ],
   "source": [
    "P_yes_total = 0.65\n",
    "P_yes_rc = 0.5\n",
    "P_rc = 0.3\n",
    "P_tc = 0.7\n",
    "\n",
    "P_yes_tc = (P_yes_total - P_yes_rc * P_rc) / P_tc\n",
    "\n",
    "print(f\"The fraction of people who are truthful clickers answered yes is: {P_yes_tc}\")"
   ]
  },
  {
   "cell_type": "markdown",
   "source": [
    "Part B. Imagine a medical test for a disease with the following two attributes:\n",
    "\n",
    "The sensitivity is about 0.993. That is, if someone has the disease, there is a probability of 0.993 that they will test positive.\n",
    "The specificity is about 0.9999. This means that if someone doesn't have the disease, there is probability of 0.9999 that they will test negative.\n",
    "In the general population, incidence of the disease is reasonably rare: about 0.0025% of all people have it (or 0.000025 as a decimal probability).\n",
    "Suppose someone tests positive. What is the probability that they have the disease?"
   ],
   "metadata": {
    "collapsed": false
   },
   "id": "ab3f948d5322dd4e"
  },
  {
   "cell_type": "code",
   "execution_count": 3,
   "id": "6e9477a0664a6c77",
   "metadata": {
    "ExecuteTime": {
     "end_time": "2023-08-11T18:23:51.759638Z",
     "start_time": "2023-08-11T18:23:51.756868Z"
    }
   },
   "outputs": [
    {
     "name": "stdout",
     "output_type": "stream",
     "text": [
      "The probability that they have the disease given that they test positive is: 0.19888241302651516\n"
     ]
    }
   ],
   "source": [
    "P_A = 0.000025\n",
    "P_B_given_A = 0.993\n",
    "P_B_given_not_A = 1 - 0.9999\n",
    "P_not_A = 1 - P_A\n",
    "\n",
    "P_B = P_B_given_A * P_A + P_B_given_not_A * P_not_A\n",
    "\n",
    "P_A_given_B = P_B_given_A * P_A / P_B\n",
    "\n",
    "print(f\"The probability that they have the disease given that they test positive is: {P_A_given_B}\")"
   ]
  }
 ],
 "metadata": {
  "kernelspec": {
   "display_name": "Python 3 (ipykernel)",
   "language": "python",
   "name": "python3"
  },
  "language_info": {
   "codemirror_mode": {
    "name": "ipython",
    "version": 3
   },
   "file_extension": ".py",
   "mimetype": "text/x-python",
   "name": "python",
   "nbconvert_exporter": "python",
   "pygments_lexer": "ipython3",
   "version": "3.10.9"
  }
 },
 "nbformat": 4,
 "nbformat_minor": 5
}
